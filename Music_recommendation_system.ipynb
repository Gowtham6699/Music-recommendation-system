{
  "nbformat": 4,
  "nbformat_minor": 0,
  "metadata": {
    "colab": {
      "provenance": [],
      "authorship_tag": "ABX9TyPlKeGY1nv+uOdzzitLr+8d",
      "include_colab_link": true
    },
    "kernelspec": {
      "name": "python3",
      "display_name": "Python 3"
    },
    "language_info": {
      "name": "python"
    }
  },
  "cells": [
    {
      "cell_type": "markdown",
      "metadata": {
        "id": "view-in-github",
        "colab_type": "text"
      },
      "source": [
        "<a href=\"https://colab.research.google.com/github/Gowtham6699/Music-recommendation-system/blob/main/Music_recommendation_system.ipynb\" target=\"_parent\"><img src=\"https://colab.research.google.com/assets/colab-badge.svg\" alt=\"Open In Colab\"/></a>"
      ]
    },
    {
      "cell_type": "code",
      "execution_count": null,
      "metadata": {
        "colab": {
          "base_uri": "https://localhost:8080/"
        },
        "id": "OIV_3MPpfwR9",
        "outputId": "a452ed50-6f1f-4cab-e372-f450a17d3215"
      },
      "outputs": [
        {
          "output_type": "stream",
          "name": "stdout",
          "text": [
            "Collecting spotipy\n",
            "  Downloading spotipy-2.23.0-py3-none-any.whl (29 kB)\n",
            "Collecting redis>=3.5.3 (from spotipy)\n",
            "  Downloading redis-5.0.2-py3-none-any.whl (251 kB)\n",
            "\u001b[2K     \u001b[90m━━━━━━━━━━━━━━━━━━━━━━━━━━━━━━━━━━━━━━━━\u001b[0m \u001b[32m251.7/251.7 kB\u001b[0m \u001b[31m8.4 MB/s\u001b[0m eta \u001b[36m0:00:00\u001b[0m\n",
            "\u001b[?25hRequirement already satisfied: requests>=2.25.0 in /usr/local/lib/python3.10/dist-packages (from spotipy) (2.31.0)\n",
            "Requirement already satisfied: six>=1.15.0 in /usr/local/lib/python3.10/dist-packages (from spotipy) (1.16.0)\n",
            "Requirement already satisfied: urllib3>=1.26.0 in /usr/local/lib/python3.10/dist-packages (from spotipy) (2.0.7)\n",
            "Requirement already satisfied: async-timeout>=4.0.3 in /usr/local/lib/python3.10/dist-packages (from redis>=3.5.3->spotipy) (4.0.3)\n",
            "Requirement already satisfied: charset-normalizer<4,>=2 in /usr/local/lib/python3.10/dist-packages (from requests>=2.25.0->spotipy) (3.3.2)\n",
            "Requirement already satisfied: idna<4,>=2.5 in /usr/local/lib/python3.10/dist-packages (from requests>=2.25.0->spotipy) (3.6)\n",
            "Requirement already satisfied: certifi>=2017.4.17 in /usr/local/lib/python3.10/dist-packages (from requests>=2.25.0->spotipy) (2024.2.2)\n",
            "Installing collected packages: redis, spotipy\n",
            "Successfully installed redis-5.0.2 spotipy-2.23.0\n"
          ]
        }
      ],
      "source": [
        "pip install spotipy"
      ]
    },
    {
      "cell_type": "code",
      "source": [
        "import requests\n",
        "import base64\n",
        "\n",
        "CLIENT_ID = 'ec1cdc0106414c3ca5d93671884963fe'\n",
        "CLIENT_SECRET = '91823f6485c847e6a73844856149d6ef'\n",
        "\n",
        "# Base64 encode the client ID and client secret\n",
        "client_credentials = f\"{CLIENT_ID}:{CLIENT_SECRET}\"\n",
        "client_credentials_base64 = base64.b64encode(client_credentials.encode())\n",
        "\n",
        "# Request the access token\n",
        "token_url = 'https://accounts.spotify.com/api/token'\n",
        "headers = {\n",
        "    'Authorization': f'Basic {client_credentials_base64.decode()}'\n",
        "}\n",
        "data = {\n",
        "    'grant_type': 'client_credentials'\n",
        "}\n",
        "response = requests.post(token_url, data=data, headers=headers)\n",
        "\n",
        "if response.status_code == 200:\n",
        "    access_token = response.json()['access_token']\n",
        "    print(\"Access token obtained successfully.\")\n",
        "else:\n",
        "    print(\"Error obtaining access token.\")\n",
        "    exit()"
      ],
      "metadata": {
        "colab": {
          "base_uri": "https://localhost:8080/"
        },
        "id": "G8SXptUef1gs",
        "outputId": "1103daa6-1319-45b5-d704-bc5c0b418765"
      },
      "execution_count": null,
      "outputs": [
        {
          "output_type": "stream",
          "name": "stdout",
          "text": [
            "Access token obtained successfully.\n"
          ]
        }
      ]
    },
    {
      "cell_type": "code",
      "source": [
        "import pandas as pd\n",
        "import spotipy\n",
        "from spotipy.oauth2 import SpotifyOAuth\n",
        "\n",
        "def get_trending_playlist_data(playlist_id, access_token):\n",
        "    # Set up Spotipy with the access token\n",
        "    sp = spotipy.Spotify(auth=access_token)\n",
        "\n",
        "    # Get the tracks from the playlist\n",
        "    playlist_tracks = sp.playlist_tracks(playlist_id, fields='items(track(id, name, artists, album(id, name)))')\n",
        "\n",
        "    # Extract relevant information and store in a list of dictionaries\n",
        "    music_data = []\n",
        "    for track_info in playlist_tracks['items']:\n",
        "        track = track_info['track']\n",
        "        track_name = track['name']\n",
        "        artists = ', '.join([artist['name'] for artist in track['artists']])\n",
        "        album_name = track['album']['name']\n",
        "        album_id = track['album']['id']\n",
        "        track_id = track['id']\n",
        "\n",
        "        # Get audio features for the track\n",
        "        audio_features = sp.audio_features(track_id)[0] if track_id != 'Not available' else None\n",
        "\n",
        "        # Get release date of the album\n",
        "        try:\n",
        "            album_info = sp.album(album_id) if album_id != 'Not available' else None\n",
        "            release_date = album_info['release_date'] if album_info else None\n",
        "        except:\n",
        "            release_date = None\n",
        "\n",
        "        # Get popularity of the track\n",
        "        try:\n",
        "            track_info = sp.track(track_id) if track_id != 'Not available' else None\n",
        "            popularity = track_info['popularity'] if track_info else None\n",
        "        except:\n",
        "            popularity = None\n",
        "\n",
        "        # Add additional track information to the track data\n",
        "        track_data = {\n",
        "            'Track Name': track_name,\n",
        "            'Artists': artists,\n",
        "            'Album Name': album_name,\n",
        "            'Album ID': album_id,\n",
        "            'Track ID': track_id,\n",
        "            'Popularity': popularity,\n",
        "            'Release Date': release_date,\n",
        "            'Duration (ms)': audio_features['duration_ms'] if audio_features else None,\n",
        "            'Explicit': track_info.get('explicit', None),\n",
        "            'External URLs': track_info.get('external_urls', {}).get('spotify', None),\n",
        "            'Danceability': audio_features['danceability'] if audio_features else None,\n",
        "            'Energy': audio_features['energy'] if audio_features else None,\n",
        "            'Key': audio_features['key'] if audio_features else None,\n",
        "            'Loudness': audio_features['loudness'] if audio_features else None,\n",
        "            'Mode': audio_features['mode'] if audio_features else None,\n",
        "            'Speechiness': audio_features['speechiness'] if audio_features else None,\n",
        "            'Acousticness': audio_features['acousticness'] if audio_features else None,\n",
        "            'Instrumentalness': audio_features['instrumentalness'] if audio_features else None,\n",
        "            'Liveness': audio_features['liveness'] if audio_features else None,\n",
        "            'Valence': audio_features['valence'] if audio_features else None,\n",
        "            'Tempo': audio_features['tempo'] if audio_features else None,\n",
        "            # Add more attributes as needed\n",
        "        }\n",
        "\n",
        "        music_data.append(track_data)\n",
        "\n",
        "    # Create a pandas DataFrame from the list of dictionaries\n",
        "    df = pd.DataFrame(music_data)\n",
        "\n",
        "    return df"
      ],
      "metadata": {
        "id": "NVm2RrEpguIz"
      },
      "execution_count": null,
      "outputs": []
    },
    {
      "cell_type": "code",
      "source": [
        "playlist_id = '7CC6i7J02F5jkED9YC8bET'\n",
        "\n",
        "# Call the function to get the music data from the playlist and store it in a DataFrame\n",
        "music_df = get_trending_playlist_data(playlist_id, access_token)\n",
        "\n",
        "# Display the DataFrame\n",
        "print(music_df)"
      ],
      "metadata": {
        "colab": {
          "base_uri": "https://localhost:8080/"
        },
        "id": "QN9czmAFQSOG",
        "outputId": "4dd061a7-2896-4b83-aa4f-d1ea4e437d23"
      },
      "execution_count": null,
      "outputs": [
        {
          "output_type": "stream",
          "name": "stdout",
          "text": [
            "                                         Track Name  \\\n",
            "0                         Beast Mode (From \"Beast\")   \n",
            "1                              Polakattum Para Para   \n",
            "2                                       Vaathi Raid   \n",
            "3                    Vaathi Kabaddi (From \"Master\")   \n",
            "4     Porkanda Singam EDM Version (Additional Song)   \n",
            "5                                     Arjunar Villu   \n",
            "6             Venom - Music From The Motion Picture   \n",
            "7                                        The Search   \n",
            "8                                          Rasputin   \n",
            "9                                     Dheera Dheera   \n",
            "10  Rakita Rakita Rakita (From \"Jagame Thandhiram\")   \n",
            "11                                  Varavaa Varavaa   \n",
            "12                                       Vengamavan   \n",
            "13                                The Trooper Theme   \n",
            "14                                       Shake That   \n",
            "15                                         Hey Mama   \n",
            "16                                  Thee Thalapathy   \n",
            "17                           Mavane (From \"Pattas\")   \n",
            "18                            Porkkalam - Tamil Rap   \n",
            "19                                    Magudi Magudi   \n",
            "20                                      Soorayaatam   \n",
            "21                                        Naan Naan   \n",
            "22                                Ulagam Oruvanukka   \n",
            "23                                      Vroom Vroom   \n",
            "24                           Naa Ready (From \"Leo\")   \n",
            "25                               Natpu (From \"RRR\")   \n",
            "26                       Naattu Koothu (From \"Rrr\")   \n",
            "\n",
            "                                              Artists  \\\n",
            "0                                 Anirudh Ravichander   \n",
            "1             Anirudh Ravichander, Santhosh Narayanan   \n",
            "2                          Anirudh Ravichander, Arivu   \n",
            "3   Vidyasagar, Anirudh Ravichander, Maran, Jayamo...   \n",
            "4                                 Anirudh Ravichander   \n",
            "5                  Sukwinder Singh, Manikka Vinayagam   \n",
            "6                                              Eminem   \n",
            "7                                                  NF   \n",
            "8                                            Boney M.   \n",
            "9   Vijay Aurs, Renjith Unni, Mohan Krishna, Anany...   \n",
            "10                  Santhosh Narayanan, Dhanush, Dhee   \n",
            "11                 Anirudh Ravichander,Vignesh Shivan   \n",
            "12                       Hiphop Tamizha, Chinna Ponnu   \n",
            "13                                              Theme   \n",
            "14                                Anirudh Ravichander   \n",
            "15              Nivas K Prasanna, Anirudh Ravichander   \n",
            "16                          Thaman S, Silambarasan TR   \n",
            "17                                       Arivu, Vivek   \n",
            "18                              G. V. Prakash, Yogi B   \n",
            "19  A.R. Rahman, Aaryan Dinesh Kanagaratnam, Chinm...   \n",
            "20      Santhosh Narayanan, V.M. Mahalingam, Muthamil   \n",
            "21                                 Santhosh Narayanan   \n",
            "22  Santhosh Narayanan, Ananthu, Gana Bala, Roshan...   \n",
            "23                        D. Imman, Santosh Hariharan   \n",
            "24  Anirudh Ravichander, Thalapathy Vijay, Asal Ko...   \n",
            "25                 Anirudh Ravichander, Maragadhamani   \n",
            "26        Rahul Sipligunj, Yazin Nizar, Maragadhamani   \n",
            "\n",
            "                                           Album Name                Album ID  \\\n",
            "0                           Beast Mode (From \"Beast\")  0gTZnvc3F1cHmJTTe9OBGb   \n",
            "1         Master (Original Motion Picture Soundtrack)  11YJfivZjEaEUU9lJmeidh   \n",
            "2         Master (Original Motion Picture Soundtrack)  11YJfivZjEaEUU9lJmeidh   \n",
            "3                      Vaathi Kabaddi (From \"Master\")  5wLGZYZn31hwzP5CI6M8z0   \n",
            "4                  Vikram (Original Background Score)  6S5qpNyT3ZAg7m0e2XSOqx   \n",
            "5                                               Gilli  6quR1wqFlwSoCANhnfN9r9   \n",
            "6               Venom (Music From The Motion Picture)  25zSh5FAL8kUh8z7ivwBH6   \n",
            "7                                          The Search  6w8mGg73sQl4QJEhpDUvpI   \n",
            "8                                          Daddy Cool  155cebHEGGBqYJAXKWJw6D   \n",
            "9   Kgf Chapter 1 (Tamil) [Original Motion Picture...  1xcZk291CASOoGPTN66slO   \n",
            "10    Rakita Rakita Rakita (From \"Jagame Thandhiram\")  3YSoAYHmI70SD6Wb7f4k1q   \n",
            "11  Naanum Rowdy Dhaan (Original Motion Picture So...  4JPb12l6n12Zo34Ut2XhFx   \n",
            "12  Natpe Thunai (Original Motion Picture Soundtrack)  4kVzewcZrjwncy9zO9HxEY   \n",
            "13  Kaaki Sattai (Original Motion Picture Soundtrack)  5IWE32AlR5LdGTO2Z01wox   \n",
            "14  Kaaki Sattai (Original Motion Picture Soundtrack)  5IWE32AlR5LdGTO2Z01wox   \n",
            "15    Sethupathi (Original Motion Picture Soundtrack)  25QVMppRE7ouRK0YAl9i0U   \n",
            "16                                             Varisu  0v5sodl4XQptOtB7iD9SNy   \n",
            "17                             Mavane (From \"Pattas\")  1GYOC0lb0qiE8iyXyJHzrs   \n",
            "18     Aadukalam (Original Motion Picture Soundtrack)  0czPRsN8uZZ5o3J8usUHbR   \n",
            "19         Kadal (Original Motion Picture Soundtrack)  3j8iyHi0RxqLLV97ZGOCPm   \n",
            "20        Mahaan (Original Motion Picture Soundtrack)  1vMs40ZOP7MVOfpf4eu6Lh   \n",
            "21        Mahaan (Original Motion Picture Soundtrack)  1vMs40ZOP7MVOfpf4eu6Lh   \n",
            "22        Kabali (Original Motion Picture Soundtrack)  4mEvf2kdNHrtGQu5AJixQc   \n",
            "23  10 Endrathukulla (Original Motion Picture Soun...  0qL4MwrRsAqNKQM3d5KYPh   \n",
            "24                             Naa Ready (From \"Leo\")  7qRoSVSyHeA9qtOXUpBwRI   \n",
            "25                                 Natpu (From \"RRR\")  5ZtUECQU7q7hIGV0k7fph8   \n",
            "26                         Naattu Koothu (From \"Rrr\")  7DbivwZgoK0AXocXHom4RV   \n",
            "\n",
            "                  Track ID  Popularity Release Date  Duration (ms)  Explicit  \\\n",
            "0   1aQ58u4guUf999iQX3J2HF          68   2022-04-08         220351     False   \n",
            "1   2K058s9yrpoUfANaQt7Zu4          57   2020-03-16         214125     False   \n",
            "2   4PML5RtrVcYAwTTS46otXB          64   2020-03-16         209500     False   \n",
            "3   7uMf1DQzEMqgJOSQgc5K2Y          61   2021-01-15         206471     False   \n",
            "4   0iJPMG79hgWnDHjufnoplb          56   2022-07-07         149434     False   \n",
            "5   6iRxlGYx90YnrXZCur191p          60   2004-03-10         266310     False   \n",
            "6   3kpYJjvM8Ja6btr5hEJLWc          74   2018-09-21         269573      True   \n",
            "7   2OKo7g3KfmCt3kyLvUAL0g          74   2019-05-30         248040     False   \n",
            "8   5lWSa1rmuSL6OBPOnkAqoa          72   1994-03-14         220667     False   \n",
            "9   6MsjkottA1KwG7X0rELec5          55   2018-12-18         222713     False   \n",
            "10  2oNRoniEFnPdaCfkOQ9m0C          58   2020-07-28         247455     False   \n",
            "11  7IPRyJWp0i9vgE2mDZ8kvk           0   2015-10-14         202378     False   \n",
            "12  2aH8bZkSxnK1NIFQLEpDiJ          58   2019-04-03         217715     False   \n",
            "13  0AfLxQQqQ2T7PH8sjkCdpR           0   2015-02-27          55821     False   \n",
            "14  3URPGyruTHMo08548fmapf           0   2015-02-27         183375     False   \n",
            "15  32E2AGkk15IU9JMZUGs7Ih          56   2016-01-20         269398     False   \n",
            "16  0qgy62WThodLxylEu0Dbnc          52   2022-12-24         258000     False   \n",
            "17  6ffEHNJBFnr68xNVoRwPf2          13   2019-12-30         231309     False   \n",
            "18  5iv6lZAIguXWYW4Zaz5zvY          56   2010-11-08         260507     False   \n",
            "19  6l5EnqPcPqQJluoJaT9z3f          52   2012-12-14         211400     False   \n",
            "20  6LFytX67259syPcZx6nUAP          47   2022-02-09         281250     False   \n",
            "21  3MBUQcMPekDVtn5mZ6Nv7c          60   2022-02-09         248500     False   \n",
            "22  1HdN5z9EDr3OiQO3ZDUUBU          54   2016-06-13         242868     False   \n",
            "23  0EC7XVVFkqpUellps3wMHg          45   2015-10-06         281772     False   \n",
            "24  1B02UI29t3PTh3m98absaP          75   2023-06-22         248182     False   \n",
            "25  3ZZYz8ttm10Jjjvn454m9v          13   2021-08-01         340362     False   \n",
            "26  61LeFCT6Nnkv55AiSgZCre          22   2021-11-10         214496     False   \n",
            "\n",
            "                                        External URLs  ...  Energy  Key  \\\n",
            "0   https://open.spotify.com/track/1aQ58u4guUf999i...  ...   0.847    2   \n",
            "1   https://open.spotify.com/track/2K058s9yrpoUfAN...  ...   0.796   11   \n",
            "2   https://open.spotify.com/track/4PML5RtrVcYAwTT...  ...   0.930    4   \n",
            "3   https://open.spotify.com/track/7uMf1DQzEMqgJOS...  ...   0.974    7   \n",
            "4   https://open.spotify.com/track/0iJPMG79hgWnDHj...  ...   0.769   11   \n",
            "5   https://open.spotify.com/track/6iRxlGYx90YnrXZ...  ...   0.909    2   \n",
            "6   https://open.spotify.com/track/3kpYJjvM8Ja6btr...  ...   0.789    0   \n",
            "7   https://open.spotify.com/track/2OKo7g3KfmCt3ky...  ...   0.786    2   \n",
            "8   https://open.spotify.com/track/5lWSa1rmuSL6OBP...  ...   0.752    6   \n",
            "9   https://open.spotify.com/track/6MsjkottA1KwG7X...  ...   0.893    4   \n",
            "10  https://open.spotify.com/track/2oNRoniEFnPdaCf...  ...   0.740   10   \n",
            "11  https://open.spotify.com/track/7IPRyJWp0i9vgE2...  ...   0.799    1   \n",
            "12  https://open.spotify.com/track/2aH8bZkSxnK1NIF...  ...   0.986    7   \n",
            "13  https://open.spotify.com/track/0AfLxQQqQ2T7PH8...  ...   0.720    8   \n",
            "14  https://open.spotify.com/track/3URPGyruTHMo085...  ...   0.861    8   \n",
            "15  https://open.spotify.com/track/32E2AGkk15IU9JM...  ...   0.926    4   \n",
            "16  https://open.spotify.com/track/0qgy62WThodLxyl...  ...   0.907   10   \n",
            "17  https://open.spotify.com/track/6ffEHNJBFnr68xN...  ...   0.987    2   \n",
            "18  https://open.spotify.com/track/5iv6lZAIguXWYW4...  ...   0.768    8   \n",
            "19  https://open.spotify.com/track/6l5EnqPcPqQJluo...  ...   0.829   10   \n",
            "20  https://open.spotify.com/track/6LFytX67259syPc...  ...   0.939   11   \n",
            "21  https://open.spotify.com/track/3MBUQcMPekDVtn5...  ...   0.653   10   \n",
            "22  https://open.spotify.com/track/1HdN5z9EDr3OiQO...  ...   0.879    1   \n",
            "23  https://open.spotify.com/track/0EC7XVVFkqpUell...  ...   0.910    8   \n",
            "24  https://open.spotify.com/track/1B02UI29t3PTh3m...  ...   0.805    1   \n",
            "25  https://open.spotify.com/track/3ZZYz8ttm10Jjjv...  ...   0.675    5   \n",
            "26  https://open.spotify.com/track/61LeFCT6Nnkv55A...  ...   0.985   10   \n",
            "\n",
            "    Loudness  Mode  Speechiness  Acousticness  Instrumentalness  Liveness  \\\n",
            "0     -5.106     1       0.0933       0.00105          0.000525    0.3330   \n",
            "1     -6.483     0       0.1700       0.16500          0.000041    0.2900   \n",
            "2     -3.404     0       0.1320       0.25300          0.000019    0.1060   \n",
            "3     -4.507     1       0.1110       0.15300          0.838000    0.1150   \n",
            "4     -5.604     0       0.0464       0.10500          0.256000    0.1590   \n",
            "5     -6.181     0       0.0693       0.19600          0.000000    0.1060   \n",
            "6     -5.058     1       0.0647       0.01480          0.000000    0.5010   \n",
            "7     -4.788     1       0.2970       0.59600          0.000000    0.0997   \n",
            "8    -11.470     0       0.0455       0.46300          0.001020    0.5950   \n",
            "9     -7.023     0       0.0915       0.54000          0.000034    0.1030   \n",
            "10    -7.505     0       0.1680       0.58100          0.000165    0.5230   \n",
            "11    -7.273     1       0.1350       0.11500          0.000000    0.0440   \n",
            "12    -2.666     1       0.2390       0.14200          0.000133    0.1350   \n",
            "13    -6.607     0       0.1570       0.01830          0.000281    0.3480   \n",
            "14    -4.203     0       0.1800       0.18200          0.000058    0.2790   \n",
            "15    -5.887     0       0.0880       0.10900          0.000001    0.0786   \n",
            "16    -5.078     0       0.1220       0.56700          0.000000    0.2590   \n",
            "17    -3.579     1       0.0502       0.17100          0.000000    0.1050   \n",
            "18    -4.085     1       0.2340       0.27900          0.000001    0.3320   \n",
            "19    -7.236     1       0.0968       0.18000          0.000335    0.0560   \n",
            "20    -5.165     0       0.2090       0.75500          0.266000    0.0850   \n",
            "21    -5.132     1       0.0425       0.03890          0.000070    0.0131   \n",
            "22    -4.532     1       0.2700       0.11600          0.000000    0.1690   \n",
            "23    -4.893     1       0.1420       0.17200          0.000107    0.0511   \n",
            "24    -5.576     1       0.1530       0.08100          0.007840    0.0318   \n",
            "25    -8.309     0       0.0455       0.46200          0.001230    0.1070   \n",
            "26    -3.714     0       0.1490       0.36900          0.026400    0.0789   \n",
            "\n",
            "    Valence    Tempo  \n",
            "0     0.371  170.983  \n",
            "1     0.919  145.475  \n",
            "2     0.666  100.016  \n",
            "3     0.454  102.032  \n",
            "4     0.413  158.953  \n",
            "5     0.510   99.958  \n",
            "6     0.467  135.954  \n",
            "7     0.390  119.957  \n",
            "8     0.970  126.005  \n",
            "9     0.264  124.723  \n",
            "10    0.948  133.526  \n",
            "11    0.670  194.996  \n",
            "12    0.251  149.975  \n",
            "13    0.127  105.084  \n",
            "14    0.826   99.928  \n",
            "15    0.522  101.977  \n",
            "16    0.828  130.011  \n",
            "17    0.515   89.980  \n",
            "18    0.774   98.000  \n",
            "19    0.636  120.050  \n",
            "20    0.662  185.632  \n",
            "21    0.842  120.020  \n",
            "22    0.642  104.969  \n",
            "23    0.608  157.934  \n",
            "24    0.572   87.956  \n",
            "25    0.512   74.936  \n",
            "26    0.750  160.072  \n",
            "\n",
            "[27 rows x 21 columns]\n"
          ]
        }
      ]
    },
    {
      "cell_type": "code",
      "source": [
        "print(music_df.isnull().sum())"
      ],
      "metadata": {
        "colab": {
          "base_uri": "https://localhost:8080/"
        },
        "id": "LzU0-cRkS4br",
        "outputId": "b350d824-5f13-41e3-a089-bd8c4334f639"
      },
      "execution_count": null,
      "outputs": [
        {
          "output_type": "stream",
          "name": "stdout",
          "text": [
            "Track Name          0\n",
            "Artists             0\n",
            "Album Name          0\n",
            "Album ID            0\n",
            "Track ID            0\n",
            "Popularity          0\n",
            "Release Date        0\n",
            "Duration (ms)       0\n",
            "Explicit            0\n",
            "External URLs       0\n",
            "Danceability        0\n",
            "Energy              0\n",
            "Key                 0\n",
            "Loudness            0\n",
            "Mode                0\n",
            "Speechiness         0\n",
            "Acousticness        0\n",
            "Instrumentalness    0\n",
            "Liveness            0\n",
            "Valence             0\n",
            "Tempo               0\n",
            "dtype: int64\n"
          ]
        }
      ]
    },
    {
      "cell_type": "code",
      "source": [
        "import pandas as pd\n",
        "import numpy as np\n",
        "from sklearn.model_selection import train_test_split\n",
        "from sklearn.preprocessing import MinMaxScaler\n",
        "from datetime import datetime\n",
        "from sklearn.metrics.pairwise import cosine_similarity\n",
        "\n",
        "data = music_df"
      ],
      "metadata": {
        "id": "seqFzbA4Xwsm"
      },
      "execution_count": null,
      "outputs": []
    },
    {
      "cell_type": "code",
      "source": [
        "def calculate_weighted_popularity(release_date):\n",
        "    # Convert the release date to datetime object\n",
        "    release_date = datetime.strptime(release_date, '%Y-%m-%d')\n",
        "\n",
        "    # Calculate the time span between release date and today's date\n",
        "    time_span = datetime.now() - release_date\n",
        "\n",
        "    # Calculate the weighted popularity score based on time span (e.g., more recent releases have higher weight)\n",
        "    weight = 1 / (time_span.days + 1)\n",
        "    return weight"
      ],
      "metadata": {
        "id": "fE86o0rgYcdM"
      },
      "execution_count": null,
      "outputs": []
    },
    {
      "cell_type": "code",
      "source": [
        "scaler = MinMaxScaler()\n",
        "music_features = music_df[['Danceability', 'Energy', 'Key',\n",
        "                           'Loudness', 'Mode', 'Speechiness', 'Acousticness',\n",
        "                           'Instrumentalness', 'Liveness', 'Valence', 'Tempo']].values\n",
        "music_features_scaled = scaler.fit_transform(music_features)"
      ],
      "metadata": {
        "id": "rKm2Kj4gZtSY"
      },
      "execution_count": null,
      "outputs": []
    },
    {
      "cell_type": "code",
      "source": [
        "def content_based_recommendations(input_song_name, num_recommendations=5):\n",
        "    if input_song_name not in music_df['Track Name'].values:\n",
        "        print(f\"'{input_song_name}' not found in the dataset. Please enter a valid song name.\")\n",
        "        return\n",
        "\n",
        "    # Get the index of the input song in the music DataFrame\n",
        "    input_song_index = music_df[music_df['Track Name'] == input_song_name].index[0]\n",
        "\n",
        "    # Calculate the similarity scores based on music features (cosine similarity)\n",
        "    similarity_scores = cosine_similarity([music_features_scaled[input_song_index]], music_features_scaled)\n",
        "\n",
        "    # Get the indices of the most similar songs\n",
        "    similar_song_indices = similarity_scores.argsort()[0][::-1][1:num_recommendations + 1]\n",
        "\n",
        "    # Get the names of the most similar songs based on content-based filtering\n",
        "    content_based_recommendations = music_df.iloc[similar_song_indices][['Track Name', 'Artists', 'Album Name', 'Release Date', 'Popularity']]\n",
        "\n",
        "    return content_based_recommendations"
      ],
      "metadata": {
        "id": "BADDQDQhPB7j"
      },
      "execution_count": null,
      "outputs": []
    },
    {
      "cell_type": "code",
      "source": [
        "def hybrid_recommendations(input_song_name, num_recommendations=5, alpha=0.5):\n",
        "    if input_song_name not in music_df['Track Name'].values:\n",
        "        print(f\"'{input_song_name}' not found in the dataset. Please enter a valid song name.\")\n",
        "        return\n",
        "\n",
        "    # Get content-based recommendations\n",
        "    content_based_rec = content_based_recommendations(input_song_name, num_recommendations)\n",
        "\n",
        "    # Get the popularity score of the input song\n",
        "    popularity_score = music_df.loc[music_df['Track Name'] == input_song_name, 'Popularity'].values[0]\n",
        "\n",
        "    # Calculate the weighted popularity score\n",
        "    weighted_popularity_score = popularity_score * calculate_weighted_popularity(music_df.loc[music_df['Track Name'] == input_song_name, 'Release Date'].values[0])\n",
        "\n",
        "    # Combine content-based and popularity-based recommendations based on weighted popularity\n",
        "    hybrid_recommendations = content_based_rec\n",
        "    hybrid_recommendations = hybrid_recommendations.append({\n",
        "        'Track Name': input_song_name,\n",
        "        'Artists': music_df.loc[music_df['Track Name'] == input_song_name, 'Artists'].values[0],\n",
        "        'Album Name': music_df.loc[music_df['Track Name'] == input_song_name, 'Album Name'].values[0],\n",
        "        'Release Date': music_df.loc[music_df['Track Name'] == input_song_name, 'Release Date'].values[0],\n",
        "        'Popularity': weighted_popularity_score\n",
        "    }, ignore_index=True)\n",
        "\n",
        "    # Sort the hybrid recommendations based on weighted popularity score\n",
        "    hybrid_recommendations = hybrid_recommendations.sort_values(by='Popularity', ascending=False)\n",
        "\n",
        "    # Remove the input song from the recommendations\n",
        "    hybrid_recommendations = hybrid_recommendations[hybrid_recommendations['Track Name'] != input_song_name]\n",
        "\n",
        "\n",
        "    return hybrid_recommendations"
      ],
      "metadata": {
        "id": "yXW6AFSUTaat"
      },
      "execution_count": null,
      "outputs": []
    },
    {
      "cell_type": "code",
      "source": [
        "input_song_name = \"Dheera Dheera\"\n",
        "recommendations = hybrid_recommendations(input_song_name, num_recommendations=5)\n",
        "print(f\"Hybrid recommended songs for '{input_song_name}':\")\n",
        "print(recommendations)"
      ],
      "metadata": {
        "colab": {
          "base_uri": "https://localhost:8080/"
        },
        "id": "q6JBXDQ2nIkW",
        "outputId": "26f7e73a-0bd8-4433-f394-ffd1740fb580"
      },
      "execution_count": null,
      "outputs": [
        {
          "output_type": "stream",
          "name": "stdout",
          "text": [
            "Hybrid recommended songs for 'Dheera Dheera':\n",
            "                   Track Name                                        Artists  \\\n",
            "3                 Vaathi Raid                     Anirudh Ravichander, Arivu   \n",
            "4               Arjunar Villu             Sukwinder Singh, Manikka Vinayagam   \n",
            "0             Thee Thalapathy                      Thaman S, Silambarasan TR   \n",
            "1                 Soorayaatam  Santhosh Narayanan, V.M. Mahalingam, Muthamil   \n",
            "2  Naattu Koothu (From \"Rrr\")    Rahul Sipligunj, Yazin Nizar, Maragadhamani   \n",
            "\n",
            "                                    Album Name Release Date  Popularity  \n",
            "3  Master (Original Motion Picture Soundtrack)   2020-03-16        64.0  \n",
            "4                                        Gilli   2004-03-10        60.0  \n",
            "0                                       Varisu   2022-12-24        52.0  \n",
            "1  Mahaan (Original Motion Picture Soundtrack)   2022-02-09        47.0  \n",
            "2                   Naattu Koothu (From \"Rrr\")   2021-11-10        22.0  \n"
          ]
        },
        {
          "output_type": "stream",
          "name": "stderr",
          "text": [
            "<ipython-input-13-b751160e1787>:17: FutureWarning: The frame.append method is deprecated and will be removed from pandas in a future version. Use pandas.concat instead.\n",
            "  hybrid_recommendations = hybrid_recommendations.append({\n"
          ]
        }
      ]
    },
    {
      "cell_type": "code",
      "source": [],
      "metadata": {
        "id": "SLqFGAe8nOLZ"
      },
      "execution_count": null,
      "outputs": []
    }
  ]
}